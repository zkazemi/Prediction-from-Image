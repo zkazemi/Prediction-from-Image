{
  "nbformat": 4,
  "nbformat_minor": 0,
  "metadata": {
    "accelerator": "GPU",
    "colab": {
      "name": "RegressionWithCNN.ipynb",
      "provenance": [],
      "authorship_tag": "ABX9TyMw19GgsIxDy/p3ovXWljKu",
      "include_colab_link": true
    },
    "kernelspec": {
      "display_name": "Python 3",
      "name": "python3"
    },
    "language_info": {
      "name": "python"
    }
  },
  "cells": [
    {
      "cell_type": "markdown",
      "metadata": {
        "id": "view-in-github",
        "colab_type": "text"
      },
      "source": [
        "<a href=\"https://colab.research.google.com/github/zkazemi/Prediction-from-Image/blob/main/RegressionWithCNN_fus.ipynb\" target=\"_parent\"><img src=\"https://colab.research.google.com/assets/colab-badge.svg\" alt=\"Open In Colab\"/></a>"
      ]
    },
    {
      "cell_type": "code",
      "metadata": {
        "colab": {
          "base_uri": "https://localhost:8080/"
        },
        "id": "07HSc4S3zk11",
        "outputId": "f243479c-b246-40a0-f93c-10753908ac2c"
      },
      "source": [
        "!git clone https://github.com/zkazemi/Prediction-from-Image.git"
      ],
      "execution_count": 1,
      "outputs": [
        {
          "output_type": "stream",
          "name": "stdout",
          "text": [
            "Cloning into 'Prediction-from-Image'...\n",
            "remote: Enumerating objects: 1030, done.\u001b[K\n",
            "remote: Counting objects: 100% (1030/1030), done.\u001b[K\n",
            "remote: Compressing objects: 100% (1028/1028), done.\u001b[K\n",
            "remote: Total 1030 (delta 0), reused 1027 (delta 0), pack-reused 0\u001b[K\n",
            "Receiving objects: 100% (1030/1030), 13.59 MiB | 17.43 MiB/s, done.\n"
          ]
        }
      ]
    },
    {
      "cell_type": "code",
      "metadata": {
        "id": "meiVMWmb5MF8",
        "colab": {
          "base_uri": "https://localhost:8080/"
        },
        "outputId": "0b553691-9edf-427b-f653-d20f905d6637"
      },
      "source": [
        "!pip install ktrain"
      ],
      "execution_count": 2,
      "outputs": [
        {
          "output_type": "stream",
          "name": "stdout",
          "text": [
            "Collecting ktrain\n",
            "  Downloading ktrain-0.28.2.tar.gz (25.3 MB)\n",
            "\u001b[K     |████████████████████████████████| 25.3 MB 64 kB/s \n",
            "\u001b[?25hCollecting scikit-learn==0.23.2\n",
            "  Downloading scikit_learn-0.23.2-cp37-cp37m-manylinux1_x86_64.whl (6.8 MB)\n",
            "\u001b[K     |████████████████████████████████| 6.8 MB 38.6 MB/s \n",
            "\u001b[?25hRequirement already satisfied: matplotlib>=3.0.0 in /usr/local/lib/python3.7/dist-packages (from ktrain) (3.2.2)\n",
            "Requirement already satisfied: pandas>=1.0.1 in /usr/local/lib/python3.7/dist-packages (from ktrain) (1.1.5)\n",
            "Requirement already satisfied: fastprogress>=0.1.21 in /usr/local/lib/python3.7/dist-packages (from ktrain) (1.0.0)\n",
            "Requirement already satisfied: requests in /usr/local/lib/python3.7/dist-packages (from ktrain) (2.23.0)\n",
            "Requirement already satisfied: joblib in /usr/local/lib/python3.7/dist-packages (from ktrain) (1.0.1)\n",
            "Requirement already satisfied: packaging in /usr/local/lib/python3.7/dist-packages (from ktrain) (21.0)\n",
            "Collecting langdetect\n",
            "  Downloading langdetect-1.0.9.tar.gz (981 kB)\n",
            "\u001b[K     |████████████████████████████████| 981 kB 29.5 MB/s \n",
            "\u001b[?25hRequirement already satisfied: jieba in /usr/local/lib/python3.7/dist-packages (from ktrain) (0.42.1)\n",
            "Collecting cchardet\n",
            "  Downloading cchardet-2.1.7-cp37-cp37m-manylinux2010_x86_64.whl (263 kB)\n",
            "\u001b[K     |████████████████████████████████| 263 kB 40.3 MB/s \n",
            "\u001b[?25hRequirement already satisfied: chardet in /usr/local/lib/python3.7/dist-packages (from ktrain) (3.0.4)\n",
            "Collecting syntok\n",
            "  Downloading syntok-1.3.1.tar.gz (23 kB)\n",
            "Collecting seqeval==0.0.19\n",
            "  Downloading seqeval-0.0.19.tar.gz (30 kB)\n",
            "Collecting transformers<=4.10.3,>=4.0.0\n",
            "  Downloading transformers-4.10.3-py3-none-any.whl (2.8 MB)\n",
            "\u001b[K     |████████████████████████████████| 2.8 MB 29.8 MB/s \n",
            "\u001b[?25hCollecting sentencepiece\n",
            "  Downloading sentencepiece-0.1.96-cp37-cp37m-manylinux_2_17_x86_64.manylinux2014_x86_64.whl (1.2 MB)\n",
            "\u001b[K     |████████████████████████████████| 1.2 MB 35.4 MB/s \n",
            "\u001b[?25hCollecting keras_bert>=0.86.0\n",
            "  Downloading keras-bert-0.88.0.tar.gz (26 kB)\n",
            "Collecting whoosh\n",
            "  Downloading Whoosh-2.7.4-py2.py3-none-any.whl (468 kB)\n",
            "\u001b[K     |████████████████████████████████| 468 kB 31.8 MB/s \n",
            "\u001b[?25hCollecting threadpoolctl>=2.0.0\n",
            "  Downloading threadpoolctl-3.0.0-py3-none-any.whl (14 kB)\n",
            "Requirement already satisfied: numpy>=1.13.3 in /usr/local/lib/python3.7/dist-packages (from scikit-learn==0.23.2->ktrain) (1.19.5)\n",
            "Requirement already satisfied: scipy>=0.19.1 in /usr/local/lib/python3.7/dist-packages (from scikit-learn==0.23.2->ktrain) (1.4.1)\n",
            "Requirement already satisfied: Keras>=2.2.4 in /usr/local/lib/python3.7/dist-packages (from seqeval==0.0.19->ktrain) (2.6.0)\n",
            "Collecting keras-transformer>=0.39.0\n",
            "  Downloading keras-transformer-0.39.0.tar.gz (11 kB)\n",
            "Collecting keras-pos-embd>=0.12.0\n",
            "  Downloading keras-pos-embd-0.12.0.tar.gz (6.0 kB)\n",
            "Collecting keras-multi-head>=0.28.0\n",
            "  Downloading keras-multi-head-0.28.0.tar.gz (14 kB)\n",
            "Collecting keras-layer-normalization>=0.15.0\n",
            "  Downloading keras-layer-normalization-0.15.0.tar.gz (4.2 kB)\n",
            "Collecting keras-position-wise-feed-forward>=0.7.0\n",
            "  Downloading keras-position-wise-feed-forward-0.7.0.tar.gz (4.5 kB)\n",
            "Collecting keras-embed-sim>=0.9.0\n",
            "  Downloading keras-embed-sim-0.9.0.tar.gz (4.1 kB)\n",
            "Collecting keras-self-attention>=0.50.0\n",
            "  Downloading keras-self-attention-0.50.0.tar.gz (12 kB)\n",
            "Requirement already satisfied: python-dateutil>=2.1 in /usr/local/lib/python3.7/dist-packages (from matplotlib>=3.0.0->ktrain) (2.8.2)\n",
            "Requirement already satisfied: cycler>=0.10 in /usr/local/lib/python3.7/dist-packages (from matplotlib>=3.0.0->ktrain) (0.10.0)\n",
            "Requirement already satisfied: kiwisolver>=1.0.1 in /usr/local/lib/python3.7/dist-packages (from matplotlib>=3.0.0->ktrain) (1.3.2)\n",
            "Requirement already satisfied: pyparsing!=2.0.4,!=2.1.2,!=2.1.6,>=2.0.1 in /usr/local/lib/python3.7/dist-packages (from matplotlib>=3.0.0->ktrain) (2.4.7)\n",
            "Requirement already satisfied: six in /usr/local/lib/python3.7/dist-packages (from cycler>=0.10->matplotlib>=3.0.0->ktrain) (1.15.0)\n",
            "Requirement already satisfied: pytz>=2017.2 in /usr/local/lib/python3.7/dist-packages (from pandas>=1.0.1->ktrain) (2018.9)\n",
            "Requirement already satisfied: tqdm>=4.27 in /usr/local/lib/python3.7/dist-packages (from transformers<=4.10.3,>=4.0.0->ktrain) (4.62.3)\n",
            "Collecting huggingface-hub>=0.0.12\n",
            "  Downloading huggingface_hub-0.0.19-py3-none-any.whl (56 kB)\n",
            "\u001b[K     |████████████████████████████████| 56 kB 4.5 MB/s \n",
            "\u001b[?25hCollecting tokenizers<0.11,>=0.10.1\n",
            "  Downloading tokenizers-0.10.3-cp37-cp37m-manylinux_2_5_x86_64.manylinux1_x86_64.manylinux_2_12_x86_64.manylinux2010_x86_64.whl (3.3 MB)\n",
            "\u001b[K     |████████████████████████████████| 3.3 MB 29.9 MB/s \n",
            "\u001b[?25hRequirement already satisfied: regex!=2019.12.17 in /usr/local/lib/python3.7/dist-packages (from transformers<=4.10.3,>=4.0.0->ktrain) (2019.12.20)\n",
            "Collecting sacremoses\n",
            "  Downloading sacremoses-0.0.46-py3-none-any.whl (895 kB)\n",
            "\u001b[K     |████████████████████████████████| 895 kB 30.7 MB/s \n",
            "\u001b[?25hRequirement already satisfied: filelock in /usr/local/lib/python3.7/dist-packages (from transformers<=4.10.3,>=4.0.0->ktrain) (3.3.0)\n",
            "Requirement already satisfied: importlib-metadata in /usr/local/lib/python3.7/dist-packages (from transformers<=4.10.3,>=4.0.0->ktrain) (4.8.1)\n",
            "Collecting pyyaml>=5.1\n",
            "  Downloading PyYAML-6.0-cp37-cp37m-manylinux_2_5_x86_64.manylinux1_x86_64.manylinux_2_12_x86_64.manylinux2010_x86_64.whl (596 kB)\n",
            "\u001b[K     |████████████████████████████████| 596 kB 33.8 MB/s \n",
            "\u001b[?25hRequirement already satisfied: typing-extensions in /usr/local/lib/python3.7/dist-packages (from huggingface-hub>=0.0.12->transformers<=4.10.3,>=4.0.0->ktrain) (3.7.4.3)\n",
            "Requirement already satisfied: zipp>=0.5 in /usr/local/lib/python3.7/dist-packages (from importlib-metadata->transformers<=4.10.3,>=4.0.0->ktrain) (3.6.0)\n",
            "Requirement already satisfied: idna<3,>=2.5 in /usr/local/lib/python3.7/dist-packages (from requests->ktrain) (2.10)\n",
            "Requirement already satisfied: certifi>=2017.4.17 in /usr/local/lib/python3.7/dist-packages (from requests->ktrain) (2021.5.30)\n",
            "Requirement already satisfied: urllib3!=1.25.0,!=1.25.1,<1.26,>=1.21.1 in /usr/local/lib/python3.7/dist-packages (from requests->ktrain) (1.24.3)\n",
            "Requirement already satisfied: click in /usr/local/lib/python3.7/dist-packages (from sacremoses->transformers<=4.10.3,>=4.0.0->ktrain) (7.1.2)\n",
            "Building wheels for collected packages: ktrain, seqeval, keras-bert, keras-transformer, keras-embed-sim, keras-layer-normalization, keras-multi-head, keras-pos-embd, keras-position-wise-feed-forward, keras-self-attention, langdetect, syntok\n",
            "  Building wheel for ktrain (setup.py) ... \u001b[?25l\u001b[?25hdone\n",
            "  Created wheel for ktrain: filename=ktrain-0.28.2-py3-none-any.whl size=25290606 sha256=2cce245f7c72dcef6aa2ae61dd32fad9718a0fbdb5615f3663d1b4f67195e2ad\n",
            "  Stored in directory: /root/.cache/pip/wheels/df/2b/04/7c821b51e637ec480060989b5030d0c4cce16efe0d67bff94b\n",
            "  Building wheel for seqeval (setup.py) ... \u001b[?25l\u001b[?25hdone\n",
            "  Created wheel for seqeval: filename=seqeval-0.0.19-py3-none-any.whl size=9929 sha256=729179512f5c57c983d711bf8a6e9baaccaffe893aaa2bc117d50f1bdb61dcc6\n",
            "  Stored in directory: /root/.cache/pip/wheels/f5/ac/f1/4e13d7aff05c722d142b7d20a88ad63f9aab11b895411241a4\n",
            "  Building wheel for keras-bert (setup.py) ... \u001b[?25l\u001b[?25hdone\n",
            "  Created wheel for keras-bert: filename=keras_bert-0.88.0-py3-none-any.whl size=34204 sha256=fc7a0def095ffe6efcbe4e6bdc3dcd2cdfdb1944fdec7dd34da17cbadcf33b55\n",
            "  Stored in directory: /root/.cache/pip/wheels/a2/90/cd/c038f2366929a3a5e3414a303b673e10235e802d871d29a835\n",
            "  Building wheel for keras-transformer (setup.py) ... \u001b[?25l\u001b[?25hdone\n",
            "  Created wheel for keras-transformer: filename=keras_transformer-0.39.0-py3-none-any.whl size=12842 sha256=d46447610df62d5cc2b83f8ae30985d1247dee5d12a956e3529f36f91999eab3\n",
            "  Stored in directory: /root/.cache/pip/wheels/bc/01/e0/5a1a14bed6726f2ed73f7917d2d2c2d4081d2c88426dea07ce\n",
            "  Building wheel for keras-embed-sim (setup.py) ... \u001b[?25l\u001b[?25hdone\n",
            "  Created wheel for keras-embed-sim: filename=keras_embed_sim-0.9.0-py3-none-any.whl size=4504 sha256=f1852b614f3b73d90be6fd985698e19f5c2f2fa21c1f163bfa634147f776ce80\n",
            "  Stored in directory: /root/.cache/pip/wheels/a8/1e/d2/9bc15513dd2f8b9de3e628b3aa9d2de49e721deef6bbd1497e\n",
            "  Building wheel for keras-layer-normalization (setup.py) ... \u001b[?25l\u001b[?25hdone\n",
            "  Created wheel for keras-layer-normalization: filename=keras_layer_normalization-0.15.0-py3-none-any.whl size=5224 sha256=d33420f473566aefddece1f3379dc7a943a50173eaed2241eb9445fad412eb08\n",
            "  Stored in directory: /root/.cache/pip/wheels/4d/be/fe/55422f77ac11fe6ddcb471198038de8a26b5a4dd1557883c1e\n",
            "  Building wheel for keras-multi-head (setup.py) ... \u001b[?25l\u001b[?25hdone\n",
            "  Created wheel for keras-multi-head: filename=keras_multi_head-0.28.0-py3-none-any.whl size=15559 sha256=911d721a38aa8580bb114f981621ce7181696302c100d1218795f19d555c5cbd\n",
            "  Stored in directory: /root/.cache/pip/wheels/79/4a/ea/9503ab5a02201dfb8635ba2cc8f30844661623c684a5b44472\n",
            "  Building wheel for keras-pos-embd (setup.py) ... \u001b[?25l\u001b[?25hdone\n",
            "  Created wheel for keras-pos-embd: filename=keras_pos_embd-0.12.0-py3-none-any.whl size=7469 sha256=d3cf865576f252336a81f50aadb7f915d064dbea4722627d8b0859c33381c9e2\n",
            "  Stored in directory: /root/.cache/pip/wheels/77/99/fd/dd98f4876c3ebbef7aab0dbfbd37bca41d7db37d3a28b2cb09\n",
            "  Building wheel for keras-position-wise-feed-forward (setup.py) ... \u001b[?25l\u001b[?25hdone\n",
            "  Created wheel for keras-position-wise-feed-forward: filename=keras_position_wise_feed_forward-0.7.0-py3-none-any.whl size=5541 sha256=ed4a5e02f0a8a375f82c3f03cc3b593c788aab5ef3280921718f1df1cc3f053b\n",
            "  Stored in directory: /root/.cache/pip/wheels/2d/12/02/1ad455c4f181cda1a4e60c5445855853d5c2ea91f942586a04\n",
            "  Building wheel for keras-self-attention (setup.py) ... \u001b[?25l\u001b[?25hdone\n",
            "  Created wheel for keras-self-attention: filename=keras_self_attention-0.50.0-py3-none-any.whl size=19414 sha256=6c4cae53ba326df8e2d03ebb29ce978dc236ff262dcd978e34c3885789df55b9\n",
            "  Stored in directory: /root/.cache/pip/wheels/92/7a/a3/231bef5803298e7ec1815215bc0613239cb1e9c03c57b13c14\n",
            "  Building wheel for langdetect (setup.py) ... \u001b[?25l\u001b[?25hdone\n",
            "  Created wheel for langdetect: filename=langdetect-1.0.9-py3-none-any.whl size=993242 sha256=23a366f4e62978a371ea538d916be21faae75955c4cdc15ce5ba28c05bfbc274\n",
            "  Stored in directory: /root/.cache/pip/wheels/c5/96/8a/f90c59ed25d75e50a8c10a1b1c2d4c402e4dacfa87f3aff36a\n",
            "  Building wheel for syntok (setup.py) ... \u001b[?25l\u001b[?25hdone\n",
            "  Created wheel for syntok: filename=syntok-1.3.1-py3-none-any.whl size=20917 sha256=9ec825ec96f6908ee8e0d53beeb1de987edd564cb8209633b6b84f6f9b592b2d\n",
            "  Stored in directory: /root/.cache/pip/wheels/5e/c2/33/e5d7d8f2f8b0c391d76bf82b844c3151bf23a84d75d02b185f\n",
            "Successfully built ktrain seqeval keras-bert keras-transformer keras-embed-sim keras-layer-normalization keras-multi-head keras-pos-embd keras-position-wise-feed-forward keras-self-attention langdetect syntok\n",
            "Installing collected packages: keras-self-attention, pyyaml, keras-position-wise-feed-forward, keras-pos-embd, keras-multi-head, keras-layer-normalization, keras-embed-sim, tokenizers, threadpoolctl, sacremoses, keras-transformer, huggingface-hub, whoosh, transformers, syntok, seqeval, sentencepiece, scikit-learn, langdetect, keras-bert, cchardet, ktrain\n",
            "  Attempting uninstall: pyyaml\n",
            "    Found existing installation: PyYAML 3.13\n",
            "    Uninstalling PyYAML-3.13:\n",
            "      Successfully uninstalled PyYAML-3.13\n",
            "  Attempting uninstall: scikit-learn\n",
            "    Found existing installation: scikit-learn 0.22.2.post1\n",
            "    Uninstalling scikit-learn-0.22.2.post1:\n",
            "      Successfully uninstalled scikit-learn-0.22.2.post1\n",
            "Successfully installed cchardet-2.1.7 huggingface-hub-0.0.19 keras-bert-0.88.0 keras-embed-sim-0.9.0 keras-layer-normalization-0.15.0 keras-multi-head-0.28.0 keras-pos-embd-0.12.0 keras-position-wise-feed-forward-0.7.0 keras-self-attention-0.50.0 keras-transformer-0.39.0 ktrain-0.28.2 langdetect-1.0.9 pyyaml-6.0 sacremoses-0.0.46 scikit-learn-0.23.2 sentencepiece-0.1.96 seqeval-0.0.19 syntok-1.3.1 threadpoolctl-3.0.0 tokenizers-0.10.3 transformers-4.10.3 whoosh-2.7.4\n"
          ]
        }
      ]
    },
    {
      "cell_type": "code",
      "metadata": {
        "id": "6xBSHmIL59KH"
      },
      "source": [
        "%matplotlib inline\n",
        "import os\n",
        "import ktrain\n",
        "from ktrain import vision as vis"
      ],
      "execution_count": 3,
      "outputs": []
    },
    {
      "cell_type": "code",
      "metadata": {
        "colab": {
          "base_uri": "https://localhost:8080/"
        },
        "id": "KHEQskPC7u-f",
        "outputId": "fe798db6-eb6d-4d44-8492-3355121034d4"
      },
      "source": [
        "import re\n",
        "pattern = r'([^/]+)_\\d+\\.\\d+.jpg$'\n",
        "\n",
        "p = re.compile(pattern)\n",
        "r = p.search('343.2322_210.5398.jpg')\n",
        "print(r.group(1))\n"
      ],
      "execution_count": 4,
      "outputs": [
        {
          "output_type": "stream",
          "name": "stdout",
          "text": [
            "343.2322\n"
          ]
        }
      ]
    },
    {
      "cell_type": "code",
      "metadata": {
        "id": "QhDlMTpYCyIB"
      },
      "source": [
        "DATADIR = '/content/Prediction-from-Image/InputImages'"
      ],
      "execution_count": 5,
      "outputs": []
    },
    {
      "cell_type": "code",
      "metadata": {
        "id": "6dq-Ccx2C3oz",
        "colab": {
          "base_uri": "https://localhost:8080/"
        },
        "outputId": "c5c9dd47-4f50-4785-e78f-81818778281e"
      },
      "source": [
        "(train_data, test_data, preproc) = vis.images_from_fname(DATADIR, pattern = pattern, is_regression=True, random_state=42)"
      ],
      "execution_count": 6,
      "outputs": [
        {
          "output_type": "stream",
          "name": "stdout",
          "text": [
            "['label']\n",
            "           label\n",
            "1010  348.655701\n",
            "299   354.838104\n",
            "548   347.657288\n",
            "1002  356.086914\n",
            "929   343.548309\n",
            "['label']\n",
            "          label\n",
            "525  344.787415\n",
            "357  355.905701\n",
            "444  358.304688\n",
            "31   345.618103\n",
            "618  358.224609\n",
            "Found 921 validated image filenames.\n",
            "Found 103 validated image filenames.\n"
          ]
        },
        {
          "output_type": "stream",
          "name": "stderr",
          "text": [
            "/usr/local/lib/python3.7/dist-packages/ktrain/utils.py:708: UserWarning: is_regression=True was supplied but targets are strings - casting to floats\n",
            "  warnings.warn('is_regression=True was supplied but targets are strings - casting to floats')\n",
            "/usr/local/lib/python3.7/dist-packages/ktrain/utils.py:607: UserWarning: Task is being treated as REGRESSION because either class_names argument was not supplied or is_regression=True. If this is incorrect, change accordingly.\n",
            "  'either class_names argument was not supplied or is_regression=True. ' + \\\n",
            "/usr/local/lib/python3.7/dist-packages/ktrain/utils.py:708: UserWarning: is_regression=True was supplied but targets are strings - casting to floats\n",
            "  warnings.warn('is_regression=True was supplied but targets are strings - casting to floats')\n"
          ]
        }
      ]
    },
    {
      "cell_type": "code",
      "metadata": {
        "id": "zT_lmvw_5EJa"
      },
      "source": [
        "vis.images_from_fname??\n"
      ],
      "execution_count": 7,
      "outputs": []
    },
    {
      "cell_type": "code",
      "metadata": {
        "colab": {
          "base_uri": "https://localhost:8080/"
        },
        "id": "_TW6MjKbC3hO",
        "outputId": "62d38035-c08b-4802-ef28-368a2c501f95"
      },
      "source": [
        "vis.print_image_regression_models()"
      ],
      "execution_count": 8,
      "outputs": [
        {
          "output_type": "stream",
          "name": "stdout",
          "text": [
            "pretrained_resnet50: 50-layer Residual Network (pretrained on ImageNet)\n",
            "resnet50: 50-layer Resididual Network (randomly initialized)\n",
            "pretrained_mobilenet: MobileNet Neural Network (pretrained on ImageNet)\n",
            "mobilenet: MobileNet Neural Network (randomly initialized)\n",
            "pretrained_inception: Inception Version 3  (pretrained on ImageNet)\n",
            "inception: Inception Version 3 (randomly initialized)\n",
            "wrn22: 22-layer Wide Residual Network (randomly initialized)\n",
            "default_cnn: a default LeNet-like Convolutional Neural Network\n"
          ]
        }
      ]
    },
    {
      "cell_type": "code",
      "metadata": {
        "colab": {
          "base_uri": "https://localhost:8080/"
        },
        "id": "dcc8ydDfGj0h",
        "outputId": "bbe8b192-172b-4dd1-d19c-ee13c8acd3fb"
      },
      "source": [
        "model = vis.image_regression_model('resnet50', train_data=train_data, val_data=test_data)"
      ],
      "execution_count": 9,
      "outputs": [
        {
          "output_type": "stream",
          "name": "stdout",
          "text": [
            "Is Multi-Label? False\n",
            "Is Regression? True\n",
            "resnet50 model created.\n"
          ]
        }
      ]
    },
    {
      "cell_type": "code",
      "metadata": {
        "id": "IHlVKkPG54iF"
      },
      "source": [
        "vis.image_regression_model??"
      ],
      "execution_count": 10,
      "outputs": []
    },
    {
      "cell_type": "code",
      "metadata": {
        "id": "l1M623mpHOJd"
      },
      "source": [
        "learner = ktrain.get_learner(model=model, train_data=train_data, val_data=test_data, batch_size=50)"
      ],
      "execution_count": 11,
      "outputs": []
    },
    {
      "cell_type": "code",
      "metadata": {
        "id": "PTDwW3wqHicQ"
      },
      "source": [
        "ktrain.get_learner??"
      ],
      "execution_count": null,
      "outputs": []
    },
    {
      "cell_type": "code",
      "metadata": {
        "colab": {
          "base_uri": "https://localhost:8080/"
        },
        "id": "h7xinBMXHzsu",
        "outputId": "5f3412c4-c445-4101-bb24-7fc9af57e613"
      },
      "source": [
        "history = learner.fit_onecycle(0.00001, 30)"
      ],
      "execution_count": 12,
      "outputs": [
        {
          "output_type": "stream",
          "name": "stdout",
          "text": [
            "\n",
            "\n",
            "begin training using onecycle policy with max lr of 1e-05...\n",
            "Epoch 1/30\n",
            "19/19 [==============================] - 47s 718ms/step - loss: 130515.8750 - mae: 361.0306 - val_loss: 125193.3516 - val_mae: 353.7853\n",
            "Epoch 2/30\n",
            "19/19 [==============================] - 10s 516ms/step - loss: 119640.1328 - mae: 345.5966 - val_loss: 112406.0938 - val_mae: 335.2258\n",
            "Epoch 3/30\n",
            "19/19 [==============================] - 10s 513ms/step - loss: 105387.5000 - mae: 324.3228 - val_loss: 96913.6953 - val_mae: 311.2607\n",
            "Epoch 4/30\n",
            "19/19 [==============================] - 10s 508ms/step - loss: 89103.0938 - mae: 298.0893 - val_loss: 79775.3281 - val_mae: 282.3896\n",
            "Epoch 5/30\n",
            "19/19 [==============================] - 10s 508ms/step - loss: 71364.7656 - mae: 266.6565 - val_loss: 62433.8867 - val_mae: 249.8023\n",
            "Epoch 6/30\n",
            "19/19 [==============================] - 10s 515ms/step - loss: 54698.3516 - mae: 233.3378 - val_loss: 46233.0352 - val_mae: 214.9391\n",
            "Epoch 7/30\n",
            "19/19 [==============================] - 10s 511ms/step - loss: 39660.5078 - mae: 198.4411 - val_loss: 32141.5098 - val_mae: 179.1802\n",
            "Epoch 8/30\n",
            "19/19 [==============================] - 10s 528ms/step - loss: 26518.0586 - mae: 162.0185 - val_loss: 20841.1074 - val_mae: 144.2333\n",
            "Epoch 9/30\n",
            "19/19 [==============================] - 10s 511ms/step - loss: 17011.2422 - mae: 129.3137 - val_loss: 12477.7295 - val_mae: 111.5254\n",
            "Epoch 10/30\n",
            "19/19 [==============================] - 10s 509ms/step - loss: 9913.2520 - mae: 98.3303 - val_loss: 6859.8491 - val_mae: 82.5722\n",
            "Epoch 11/30\n",
            "19/19 [==============================] - 10s 512ms/step - loss: 5159.6636 - mae: 70.3557 - val_loss: 3451.1648 - val_mae: 58.3764\n",
            "Epoch 12/30\n",
            "19/19 [==============================] - 10s 511ms/step - loss: 2643.9651 - mae: 49.3778 - val_loss: 1567.4756 - val_mae: 39.0222\n",
            "Epoch 13/30\n",
            "19/19 [==============================] - 10s 526ms/step - loss: 1225.5199 - mae: 32.0206 - val_loss: 655.6790 - val_mae: 24.6958\n",
            "Epoch 14/30\n",
            "19/19 [==============================] - 10s 510ms/step - loss: 598.6543 - mae: 20.8716 - val_loss: 256.9884 - val_mae: 14.5865\n",
            "Epoch 15/30\n",
            "19/19 [==============================] - 10s 512ms/step - loss: 307.0335 - mae: 14.3598 - val_loss: 110.1069 - val_mae: 8.9201\n",
            "Epoch 16/30\n",
            "19/19 [==============================] - 10s 507ms/step - loss: 212.7351 - mae: 11.7369 - val_loss: 65.3401 - val_mae: 6.7417\n",
            "Epoch 17/30\n",
            "19/19 [==============================] - 10s 522ms/step - loss: 182.4635 - mae: 10.8887 - val_loss: 52.2777 - val_mae: 6.1370\n",
            "Epoch 18/30\n",
            "19/19 [==============================] - 10s 508ms/step - loss: 183.5525 - mae: 10.9283 - val_loss: 48.9219 - val_mae: 5.9589\n",
            "Epoch 19/30\n",
            "19/19 [==============================] - 10s 511ms/step - loss: 180.1712 - mae: 10.6078 - val_loss: 48.0027 - val_mae: 5.9043\n",
            "Epoch 20/30\n",
            "19/19 [==============================] - 10s 509ms/step - loss: 168.4943 - mae: 10.3882 - val_loss: 47.5478 - val_mae: 5.8794\n",
            "Epoch 21/30\n",
            "19/19 [==============================] - 10s 511ms/step - loss: 174.6597 - mae: 10.6148 - val_loss: 47.4450 - val_mae: 5.8730\n",
            "Epoch 22/30\n",
            "19/19 [==============================] - 10s 505ms/step - loss: 185.1580 - mae: 11.0606 - val_loss: 47.4272 - val_mae: 5.8725\n",
            "Epoch 23/30\n",
            "19/19 [==============================] - 10s 504ms/step - loss: 174.0208 - mae: 10.5833 - val_loss: 47.3885 - val_mae: 5.8698\n",
            "Epoch 24/30\n",
            "19/19 [==============================] - 10s 509ms/step - loss: 172.4863 - mae: 10.5208 - val_loss: 47.4152 - val_mae: 5.8674\n",
            "Epoch 25/30\n",
            "19/19 [==============================] - 10s 509ms/step - loss: 192.2473 - mae: 11.1721 - val_loss: 47.3774 - val_mae: 5.8664\n",
            "Epoch 26/30\n",
            "19/19 [==============================] - 10s 508ms/step - loss: 170.5255 - mae: 10.4819 - val_loss: 47.3544 - val_mae: 5.8656\n",
            "Epoch 27/30\n",
            "19/19 [==============================] - 10s 507ms/step - loss: 185.7044 - mae: 10.8534 - val_loss: 47.3641 - val_mae: 5.8647\n",
            "Epoch 28/30\n",
            "19/19 [==============================] - 10s 518ms/step - loss: 183.7897 - mae: 10.5314 - val_loss: 47.3728 - val_mae: 5.8640\n",
            "Epoch 29/30\n",
            "19/19 [==============================] - 10s 506ms/step - loss: 176.9755 - mae: 10.6297 - val_loss: 47.3537 - val_mae: 5.8638\n",
            "Epoch 30/30\n",
            "19/19 [==============================] - 10s 508ms/step - loss: 182.4333 - mae: 10.8899 - val_loss: 47.3494 - val_mae: 5.8636\n"
          ]
        }
      ]
    },
    {
      "cell_type": "code",
      "metadata": {
        "colab": {
          "base_uri": "https://localhost:8080/"
        },
        "id": "sTW_lnvMvpxZ",
        "outputId": "594b014c-1ddf-4d5b-f7ff-7279a7cc2389"
      },
      "source": [
        "history.history.keys()"
      ],
      "execution_count": 13,
      "outputs": [
        {
          "output_type": "execute_result",
          "data": {
            "text/plain": [
              "dict_keys(['loss', 'mae', 'val_loss', 'val_mae', 'lr', 'iterations', 'momentum'])"
            ]
          },
          "metadata": {},
          "execution_count": 13
        }
      ]
    },
    {
      "cell_type": "code",
      "metadata": {
        "colab": {
          "base_uri": "https://localhost:8080/",
          "height": 295
        },
        "id": "8t0drLInwLrW",
        "outputId": "eb5d6110-d3d8-4ddb-8493-ab025ae23b25"
      },
      "source": [
        "import matplotlib.pyplot as plt\n",
        "\n",
        "plt.plot(history.history['loss'])\n",
        "plt.title('Training Loss')\n",
        "plt.xlabel('epoch')\n",
        "plt.ylabel('loss')\n",
        "plt.show()"
      ],
      "execution_count": 14,
      "outputs": [
        {
          "output_type": "display_data",
          "data": {
            "image/png": "[encoded data removed]",
            "text/plain": [
              "<Figure size 432x288 with 1 Axes>"
            ]
          },
          "metadata": {
            "needs_background": "light"
          }
        }
      ]
    },
    {
      "cell_type": "code",
      "metadata": {
        "colab": {
          "base_uri": "https://localhost:8080/",
          "height": 295
        },
        "id": "V6AtwxflwuQb",
        "outputId": "282e47b7-b89e-4378-a804-c38220413132"
      },
      "source": [
        "plt.plot(history.history['val_loss'])\n",
        "plt.title('Validation Loss')\n",
        "plt.xlabel('epoch')\n",
        "plt.ylabel('loss')\n",
        "plt.show()"
      ],
      "execution_count": 15,
      "outputs": [
        {
          "output_type": "display_data",
          "data": {
            "image/png": "[encoded data removed]",
            "text/plain": [
              "<Figure size 432x288 with 1 Axes>"
            ]
          },
          "metadata": {
            "needs_background": "light"
          }
        }
      ]
    },
    {
      "cell_type": "code",
      "metadata": {
        "id": "7UAvaNaSJXMH"
      },
      "source": [
        "learner.freeze(15)\n",
        "\n",
        "learner.fit_onecycle(0.001, 6)"
      ],
      "execution_count": null,
      "outputs": []
    },
    {
      "cell_type": "code",
      "metadata": {
        "id": "Eco0oGdYPUpl"
      },
      "source": [
        "predictor = ktrain.get_predictor(learner.model, preproc)"
      ],
      "execution_count": 16,
      "outputs": []
    },
    {
      "cell_type": "code",
      "metadata": {
        "colab": {
          "base_uri": "https://localhost:8080/"
        },
        "id": "IntwwUhEKZmA",
        "outputId": "ea5d4e85-4fce-464e-f7b6-acc9bc8829b0"
      },
      "source": [
        "test_data.filenames[50:100]"
      ],
      "execution_count": 17,
      "outputs": [
        {
          "output_type": "execute_result",
          "data": {
            "text/plain": [
              "['350.0483_212.0603.jpg',\n",
              " '359.3112_188.646.jpg',\n",
              " '345.8751_179.0623.jpg',\n",
              " '346.4512_220.336.jpg',\n",
              " '344.6808_282.2765.jpg',\n",
              " '352.0501_251.988.jpg',\n",
              " '356.7374_187.5386.jpg',\n",
              " '349.6955_163.0286.jpg',\n",
              " '347.0562_261.1113.jpg',\n",
              " '358.9904_177.8156.jpg',\n",
              " '348.3127_286.1518.jpg',\n",
              " '345.4153_145.4921.jpg',\n",
              " '344.3273_124.3657.jpg',\n",
              " '349.7562_143.5251.jpg',\n",
              " '352.0423_223.6046.jpg',\n",
              " '355.1949_177.1358.jpg',\n",
              " '357.8634_250.9355.jpg',\n",
              " '343.4894_170.7163.jpg',\n",
              " '354.2964_304.0657.jpg',\n",
              " '344.5864_274.0888.jpg',\n",
              " '347.2627_292.0572.jpg',\n",
              " '353.0311_203.7536.jpg',\n",
              " '357.6149_134.6812.jpg',\n",
              " '358.5393_155.5622.jpg',\n",
              " '345.4109_124.8476.jpg',\n",
              " '343.8355_160.3266.jpg',\n",
              " '358.2491_252.4268.jpg',\n",
              " '343.1168_301.3336.jpg',\n",
              " '357.9433_201.726.jpg',\n",
              " '349.4354_157.2079.jpg',\n",
              " '343.7586_130.3827.jpg',\n",
              " '358.5274_144.9672.jpg',\n",
              " '359.1429_125.3914.jpg',\n",
              " '345.2846_127.0375.jpg',\n",
              " '343.1046_181.2099.jpg',\n",
              " '358.2672_179.9598.jpg',\n",
              " '345.5262_142.8362.jpg',\n",
              " '351.3387_140.215.jpg',\n",
              " '344.6939_187.9777.jpg',\n",
              " '344.3614_132.8115.jpg',\n",
              " '354.88_311.5495.jpg',\n",
              " '349.7722_299.5847.jpg',\n",
              " '354.8074_255.4604.jpg',\n",
              " '353.1844_258.1548.jpg',\n",
              " '356.9967_188.2195.jpg',\n",
              " '358.1877_126.8035.jpg',\n",
              " '356.4675_254.1554.jpg',\n",
              " '352.4436_145.9192.jpg',\n",
              " '359.5677_133.7808.jpg',\n",
              " '350.5983_186.587.jpg']"
            ]
          },
          "metadata": {},
          "execution_count": 17
        }
      ]
    },
    {
      "cell_type": "code",
      "metadata": {
        "id": "803nHJPSX9fB"
      },
      "source": [
        "def show_prediction(fname):\n",
        "    fname = DATADIR + '/' + fname\n",
        "    pred  = (predictor.predict_filename(fname)[0])\n",
        "    actual = float(p.search(fname).group(1))\n",
        "    vis.show_image(fname)\n",
        "    print(\"predicted: %s | Actual: %s\" %(pred, actual))"
      ],
      "execution_count": 18,
      "outputs": []
    },
    {
      "cell_type": "code",
      "metadata": {
        "colab": {
          "base_uri": "https://localhost:8080/",
          "height": 287
        },
        "id": "fpJMQJGTZRp2",
        "outputId": "5c99520c-6593-43f0-e08a-3c738b18212e"
      },
      "source": [
        "show_prediction('343.1168_301.3336.jpg')"
      ],
      "execution_count": 19,
      "outputs": [
        {
          "output_type": "stream",
          "name": "stdout",
          "text": [
            "predicted: 349.10806 | Actual: 343.1168\n"
          ]
        },
        {
          "output_type": "display_data",
          "data": {
            "image/png": "[encoded data removed]",
            "text/plain": [
              "<Figure size 432x288 with 1 Axes>"
            ]
          },
          "metadata": {
            "needs_background": "light"
          }
        }
      ]
    }
  ]
}